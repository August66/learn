{
 "cells": [
  {
   "cell_type": "code",
   "execution_count": 1,
   "metadata": {
    "scrolled": true
   },
   "outputs": [
    {
     "name": "stdout",
     "output_type": "stream",
     "text": [
      "WARNING:tensorflow:From <ipython-input-1-b286ce1133b1>:5: read_data_sets (from tensorflow.contrib.learn.python.learn.datasets.mnist) is deprecated and will be removed in a future version.\n",
      "Instructions for updating:\n",
      "Please use alternatives such as official/mnist/dataset.py from tensorflow/models.\n",
      "WARNING:tensorflow:From c:\\users\\administrator.2013-20160219zp\\appdata\\local\\programs\\python\\python36\\lib\\site-packages\\tensorflow\\contrib\\learn\\python\\learn\\datasets\\mnist.py:260: maybe_download (from tensorflow.contrib.learn.python.learn.datasets.base) is deprecated and will be removed in a future version.\n",
      "Instructions for updating:\n",
      "Please write your own downloading logic.\n",
      "WARNING:tensorflow:From c:\\users\\administrator.2013-20160219zp\\appdata\\local\\programs\\python\\python36\\lib\\site-packages\\tensorflow\\contrib\\learn\\python\\learn\\datasets\\mnist.py:262: extract_images (from tensorflow.contrib.learn.python.learn.datasets.mnist) is deprecated and will be removed in a future version.\n",
      "Instructions for updating:\n",
      "Please use tf.data to implement this functionality.\n",
      "Extracting ./mydata/train-images-idx3-ubyte.gz\n",
      "WARNING:tensorflow:From c:\\users\\administrator.2013-20160219zp\\appdata\\local\\programs\\python\\python36\\lib\\site-packages\\tensorflow\\contrib\\learn\\python\\learn\\datasets\\mnist.py:267: extract_labels (from tensorflow.contrib.learn.python.learn.datasets.mnist) is deprecated and will be removed in a future version.\n",
      "Instructions for updating:\n",
      "Please use tf.data to implement this functionality.\n",
      "Extracting ./mydata/train-labels-idx1-ubyte.gz\n",
      "WARNING:tensorflow:From c:\\users\\administrator.2013-20160219zp\\appdata\\local\\programs\\python\\python36\\lib\\site-packages\\tensorflow\\contrib\\learn\\python\\learn\\datasets\\mnist.py:110: dense_to_one_hot (from tensorflow.contrib.learn.python.learn.datasets.mnist) is deprecated and will be removed in a future version.\n",
      "Instructions for updating:\n",
      "Please use tf.one_hot on tensors.\n",
      "Extracting ./mydata/t10k-images-idx3-ubyte.gz\n",
      "Extracting ./mydata/t10k-labels-idx1-ubyte.gz\n",
      "WARNING:tensorflow:From c:\\users\\administrator.2013-20160219zp\\appdata\\local\\programs\\python\\python36\\lib\\site-packages\\tensorflow\\contrib\\learn\\python\\learn\\datasets\\mnist.py:290: DataSet.__init__ (from tensorflow.contrib.learn.python.learn.datasets.mnist) is deprecated and will be removed in a future version.\n",
      "Instructions for updating:\n",
      "Please use alternatives such as official/mnist/dataset.py from tensorflow/models.\n"
     ]
    }
   ],
   "source": [
    "# Writen by liupu\n",
    "# Need to install numpy, tensorflow\n",
    "import numpy as np\n",
    "from tensorflow.examples.tutorials.mnist import input_data\n",
    "mnist = input_data.read_data_sets('./mydata/', one_hot=True)"
   ]
  },
  {
   "cell_type": "code",
   "execution_count": 2,
   "metadata": {},
   "outputs": [],
   "source": [
    "train=mnist.train     \n",
    "test=mnist.test  \n",
    "train_x = train.images\n",
    "train_y = train.labels\n",
    "test_x = test.images\n",
    "test_y = test.labels"
   ]
  },
  {
   "cell_type": "code",
   "execution_count": 3,
   "metadata": {},
   "outputs": [
    {
     "name": "stdout",
     "output_type": "stream",
     "text": [
      "(55000, 784) (55000, 10)\n",
      "(10000, 784) (10000, 10)\n",
      "[7 2 1 0 4 1 4 9 5 9]\n"
     ]
    }
   ],
   "source": [
    "print(train_x.shape, train_y.shape)\n",
    "print(test_x.shape, test_y.shape)\n",
    "print(test_y[:10].argmax(axis=1))"
   ]
  },
  {
   "cell_type": "code",
   "execution_count": 4,
   "metadata": {},
   "outputs": [],
   "source": [
    "class Knn():\n",
    "    def __init__(self, database, k=5):\n",
    "        self._database = database\n",
    "        self._x = database[0]\n",
    "        self._y = database[1]\n",
    "        self._xshape = database[0].shape\n",
    "        self._yshape = database[1].shape\n",
    "        self._k = k\n",
    "    \n",
    "    def distance(self, x1, x2):\n",
    "        x1 = x1.reshape(-1)             #flatten x1\n",
    "        x2 = x2.reshape(-1)             #flatten x2\n",
    "        return np.sum((x2-x1)**2)              #return the L2 distance between x1 and x2\n",
    "    \n",
    "    def predict(self, x):\n",
    "        assert self._xshape[1:] == x.shape[1:]\n",
    "        predict_y = np.zeros(x.shape[0])\n",
    "        for j, item in enumerate(x):\n",
    "            if j%100==0:\n",
    "                print(j)\n",
    "            dist = np.zeros([self._yshape[0], 2])       #a row present [distance, y]\n",
    "            vote = np.zeros(self._yshape[0])\n",
    "            for i, xi in enumerate(self._x):\n",
    "                dist[i] = [self.distance(xi, item), self._y[i]]\n",
    "            dist = dist[dist[:,0].argsort()]         #sort by col_1(col of distance)\n",
    "            for i in range(self._k):\n",
    "                vote[int(dist[i][1])] += 1\n",
    "            predict_y[j] = np.argmax(vote)          #get the index of maximum of vote\n",
    "        return predict_y.astype(int)            "
   ]
  },
  {
   "cell_type": "code",
   "execution_count": 5,
   "metadata": {},
   "outputs": [
    {
     "name": "stdout",
     "output_type": "stream",
     "text": [
      "0\n",
      "100\n",
      "200\n",
      "300\n",
      "400\n",
      "500\n",
      "600\n",
      "700\n",
      "800\n",
      "900\n"
     ]
    }
   ],
   "source": [
    "knn = Knn((train_x,train_y.argmax(axis=1)), k=5)\n",
    "y = knn.predict(test_x[3000:4000])"
   ]
  },
  {
   "cell_type": "code",
   "execution_count": 6,
   "metadata": {
    "scrolled": true
   },
   "outputs": [],
   "source": [
    "#print(y)\n",
    "#print(test_y[:30].argmax(axis=1))\n",
    "a = y-test_y[3000:4000].argmax(axis=1)\n",
    "#print(a)"
   ]
  },
  {
   "cell_type": "code",
   "execution_count": 7,
   "metadata": {},
   "outputs": [
    {
     "name": "stdout",
     "output_type": "stream",
     "text": [
      "[-8 -2 -2  1  4 -5 -5 -6 -6 -6  2 -8  4  5  2  4 -8 -2 -5 -3 -6 -1 -8  3\n",
      " -8 -1 -3 -6 -5 -6  2 -1 -6  1 -6 -6 -5 -2 -6  2 -1 -6] (42,)\n"
     ]
    }
   ],
   "source": [
    "b = np.where(a!=0)\n",
    "print(a[b], a[b].shape)"
   ]
  },
  {
   "cell_type": "code",
   "execution_count": 8,
   "metadata": {},
   "outputs": [],
   "source": [
    "np.savez(\"./test3000_4000.npz\", predict = y)"
   ]
  }
 ],
 "metadata": {
  "kernelspec": {
   "display_name": "Python 3",
   "language": "python",
   "name": "python3"
  },
  "language_info": {
   "codemirror_mode": {
    "name": "ipython",
    "version": 3
   },
   "file_extension": ".py",
   "mimetype": "text/x-python",
   "name": "python",
   "nbconvert_exporter": "python",
   "pygments_lexer": "ipython3",
   "version": "3.6.6"
  }
 },
 "nbformat": 4,
 "nbformat_minor": 2
}
